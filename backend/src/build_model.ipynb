{
 "cells": [
  {
   "cell_type": "markdown",
   "metadata": {},
   "source": [
    "# BUILDING THE TRAINED MODEL"
   ]
  },
  {
   "cell_type": "markdown",
   "metadata": {},
   "source": [
    "DATA PREPROCESSING"
   ]
  },
  {
   "cell_type": "code",
   "execution_count": 60,
   "metadata": {},
   "outputs": [],
   "source": [
    "import pandas as pd"
   ]
  },
  {
   "cell_type": "code",
   "execution_count": 62,
   "metadata": {},
   "outputs": [],
   "source": [
    "dataset = pd.read_csv('../dataset/upi_fraud_dataset.csv', index_col = 0)"
   ]
  },
  {
   "cell_type": "code",
   "execution_count": 63,
   "metadata": {},
   "outputs": [
    {
     "data": {
      "text/html": [
       "<div>\n",
       "<style scoped>\n",
       "    .dataframe tbody tr th:only-of-type {\n",
       "        vertical-align: middle;\n",
       "    }\n",
       "\n",
       "    .dataframe tbody tr th {\n",
       "        vertical-align: top;\n",
       "    }\n",
       "\n",
       "    .dataframe thead th {\n",
       "        text-align: right;\n",
       "    }\n",
       "</style>\n",
       "<table border=\"1\" class=\"dataframe\">\n",
       "  <thead>\n",
       "    <tr style=\"text-align: right;\">\n",
       "      <th></th>\n",
       "      <th>trans_hour</th>\n",
       "      <th>trans_day</th>\n",
       "      <th>trans_month</th>\n",
       "      <th>trans_year</th>\n",
       "      <th>category</th>\n",
       "      <th>upi_number</th>\n",
       "      <th>age</th>\n",
       "      <th>trans_amount</th>\n",
       "      <th>state</th>\n",
       "      <th>zip</th>\n",
       "      <th>fraud_risk</th>\n",
       "    </tr>\n",
       "  </thead>\n",
       "  <tbody>\n",
       "    <tr>\n",
       "      <th>0</th>\n",
       "      <td>0</td>\n",
       "      <td>1</td>\n",
       "      <td>1</td>\n",
       "      <td>2022</td>\n",
       "      <td>12</td>\n",
       "      <td>9957000001</td>\n",
       "      <td>54</td>\n",
       "      <td>66.21</td>\n",
       "      <td>22</td>\n",
       "      <td>49879</td>\n",
       "      <td>0</td>\n",
       "    </tr>\n",
       "    <tr>\n",
       "      <th>1</th>\n",
       "      <td>1</td>\n",
       "      <td>1</td>\n",
       "      <td>1</td>\n",
       "      <td>2022</td>\n",
       "      <td>3</td>\n",
       "      <td>9957000002</td>\n",
       "      <td>15</td>\n",
       "      <td>55.81</td>\n",
       "      <td>14</td>\n",
       "      <td>62668</td>\n",
       "      <td>0</td>\n",
       "    </tr>\n",
       "    <tr>\n",
       "      <th>2</th>\n",
       "      <td>3</td>\n",
       "      <td>1</td>\n",
       "      <td>1</td>\n",
       "      <td>2022</td>\n",
       "      <td>8</td>\n",
       "      <td>9957000003</td>\n",
       "      <td>60</td>\n",
       "      <td>8.68</td>\n",
       "      <td>4</td>\n",
       "      <td>96037</td>\n",
       "      <td>0</td>\n",
       "    </tr>\n",
       "    <tr>\n",
       "      <th>3</th>\n",
       "      <td>6</td>\n",
       "      <td>1</td>\n",
       "      <td>1</td>\n",
       "      <td>2022</td>\n",
       "      <td>4</td>\n",
       "      <td>9957000004</td>\n",
       "      <td>44</td>\n",
       "      <td>89.52</td>\n",
       "      <td>40</td>\n",
       "      <td>29911</td>\n",
       "      <td>0</td>\n",
       "    </tr>\n",
       "    <tr>\n",
       "      <th>4</th>\n",
       "      <td>6</td>\n",
       "      <td>1</td>\n",
       "      <td>1</td>\n",
       "      <td>2022</td>\n",
       "      <td>0</td>\n",
       "      <td>9957000005</td>\n",
       "      <td>72</td>\n",
       "      <td>1.90</td>\n",
       "      <td>38</td>\n",
       "      <td>16421</td>\n",
       "      <td>0</td>\n",
       "    </tr>\n",
       "  </tbody>\n",
       "</table>\n",
       "</div>"
      ],
      "text/plain": [
       "   trans_hour  trans_day  trans_month  trans_year  category  upi_number  age   \n",
       "0           0          1            1        2022        12  9957000001   54  \\\n",
       "1           1          1            1        2022         3  9957000002   15   \n",
       "2           3          1            1        2022         8  9957000003   60   \n",
       "3           6          1            1        2022         4  9957000004   44   \n",
       "4           6          1            1        2022         0  9957000005   72   \n",
       "\n",
       "   trans_amount  state    zip  fraud_risk  \n",
       "0         66.21     22  49879           0  \n",
       "1         55.81     14  62668           0  \n",
       "2          8.68      4  96037           0  \n",
       "3         89.52     40  29911           0  \n",
       "4          1.90     38  16421           0  "
      ]
     },
     "execution_count": 63,
     "metadata": {},
     "output_type": "execute_result"
    }
   ],
   "source": [
    "dataset.head()"
   ]
  },
  {
   "cell_type": "code",
   "execution_count": 7,
   "metadata": {},
   "outputs": [],
   "source": [
    "import numpy as np"
   ]
  },
  {
   "cell_type": "code",
   "execution_count": 8,
   "metadata": {},
   "outputs": [],
   "source": [
    "x = dataset.iloc[ : , : 10].values\n",
    "y = dataset.iloc[ : , 10].values"
   ]
  },
  {
   "cell_type": "code",
   "execution_count": 9,
   "metadata": {},
   "outputs": [],
   "source": [
    "from sklearn.model_selection import train_test_split"
   ]
  },
  {
   "cell_type": "code",
   "execution_count": 10,
   "metadata": {},
   "outputs": [],
   "source": [
    "x_train, x_test, y_train, y_test = train_test_split(x, y, test_size = 0.15, random_state = 0)"
   ]
  },
  {
   "cell_type": "code",
   "execution_count": 11,
   "metadata": {},
   "outputs": [
    {
     "data": {
      "text/plain": [
       "(2266, 10)"
      ]
     },
     "execution_count": 11,
     "metadata": {},
     "output_type": "execute_result"
    }
   ],
   "source": [
    "x_train.shape"
   ]
  },
  {
   "cell_type": "code",
   "execution_count": 12,
   "metadata": {},
   "outputs": [
    {
     "data": {
      "text/plain": [
       "(400, 10)"
      ]
     },
     "execution_count": 12,
     "metadata": {},
     "output_type": "execute_result"
    }
   ],
   "source": [
    "x_test.shape"
   ]
  },
  {
   "cell_type": "code",
   "execution_count": 13,
   "metadata": {},
   "outputs": [],
   "source": [
    "fraud = np.count_nonzero(y_train == 1)\n",
    "valid = np.count_nonzero(y_train == 0)"
   ]
  },
  {
   "cell_type": "code",
   "execution_count": 14,
   "metadata": {
    "scrolled": true
   },
   "outputs": [
    {
     "name": "stdout",
     "output_type": "stream",
     "text": [
      "Fraud cases in training data = 1348\n",
      "Valid cases in training data = 918\n"
     ]
    }
   ],
   "source": [
    "print('Fraud cases in training data =', fraud)\n",
    "print('Valid cases in training data =', valid)"
   ]
  },
  {
   "cell_type": "code",
   "execution_count": 15,
   "metadata": {},
   "outputs": [],
   "source": [
    "from sklearn.preprocessing import StandardScaler\n",
    "scaler = StandardScaler()"
   ]
  },
  {
   "cell_type": "code",
   "execution_count": 16,
   "metadata": {},
   "outputs": [],
   "source": [
    "x_train = scaler.fit_transform(x_train)\n",
    "x_test = scaler.transform(x_test)"
   ]
  },
  {
   "cell_type": "code",
   "execution_count": 17,
   "metadata": {
    "scrolled": true
   },
   "outputs": [
    {
     "data": {
      "text/plain": [
       "array([[ 1.11287494,  0.23492331, -0.89608107,  0.        ,  0.0602433 ,\n",
       "         0.68096147,  0.83994401, -0.84340161, -0.45791225, -1.64639185],\n",
       "       [-1.1894848 , -0.92886509,  0.66178275,  0.        , -1.24483613,\n",
       "        -0.3824002 , -0.27301162, -0.83469894,  1.03866827, -0.4058421 ],\n",
       "       [ 1.11287494, -1.02584746,  2.53121934,  0.        ,  0.32125918,\n",
       "        -0.38240085,  1.63491233,  1.40609705, -0.31538077,  0.32896382],\n",
       "       [-1.1894848 ,  0.91379987, -0.89608107,  0.        , -1.24483613,\n",
       "        -1.11969157, -0.3790074 , -0.72010938, -0.24411503,  0.5966091 ],\n",
       "       [ 1.11287494,  0.42888804, -0.89608107,  0.        , -1.76686789,\n",
       "        -1.11969169, -0.8029905 ,  0.14610555,  1.18119975,  1.37176053]])"
      ]
     },
     "execution_count": 17,
     "metadata": {},
     "output_type": "execute_result"
    }
   ],
   "source": [
    "x_train[ : 5]"
   ]
  },
  {
   "cell_type": "code",
   "execution_count": 18,
   "metadata": {},
   "outputs": [
    {
     "data": {
      "text/plain": [
       "array([[ 0.99775696, -1.02584746,  0.66178275,  0.        , -1.50585201,\n",
       "        -0.38240103, -0.8029905 , -0.55231661, -0.24411503,  0.60587057],\n",
       "       [-1.30460278,  1.6896588 , -0.89608107,  0.        , -0.72280436,\n",
       "        -0.93972315,  0.09797359, -0.10066076, -1.66942982,  1.78976412],\n",
       "       [-1.07436681,  0.33190567, -0.27293554,  0.        , -1.24483613,\n",
       "        -0.38240071, -0.96198416, -0.63173177,  0.46854236, -1.33247671],\n",
       "       [ 0.53728501, -1.21981219,  0.66178275,  0.        ,  1.10430683,\n",
       "         1.8381786 ,  0.94593979,  1.36440214, -0.24411503,  0.62521842],\n",
       "       [ 0.07681306, -1.02584746, -0.27293554,  0.        , -0.20077259,\n",
       "        -0.38240113, -0.22001374, -0.63409578, -0.67170947,  0.8568677 ]])"
      ]
     },
     "execution_count": 18,
     "metadata": {},
     "output_type": "execute_result"
    }
   ],
   "source": [
    "x_test[ : 5]"
   ]
  },
  {
   "cell_type": "markdown",
   "metadata": {},
   "source": [
    "LOGISTIC REGRESSION (LR)"
   ]
  },
  {
   "cell_type": "code",
   "execution_count": 19,
   "metadata": {},
   "outputs": [
    {
     "data": {
      "text/html": [
       "<style>#sk-container-id-1 {color: black;background-color: white;}#sk-container-id-1 pre{padding: 0;}#sk-container-id-1 div.sk-toggleable {background-color: white;}#sk-container-id-1 label.sk-toggleable__label {cursor: pointer;display: block;width: 100%;margin-bottom: 0;padding: 0.3em;box-sizing: border-box;text-align: center;}#sk-container-id-1 label.sk-toggleable__label-arrow:before {content: \"▸\";float: left;margin-right: 0.25em;color: #696969;}#sk-container-id-1 label.sk-toggleable__label-arrow:hover:before {color: black;}#sk-container-id-1 div.sk-estimator:hover label.sk-toggleable__label-arrow:before {color: black;}#sk-container-id-1 div.sk-toggleable__content {max-height: 0;max-width: 0;overflow: hidden;text-align: left;background-color: #f0f8ff;}#sk-container-id-1 div.sk-toggleable__content pre {margin: 0.2em;color: black;border-radius: 0.25em;background-color: #f0f8ff;}#sk-container-id-1 input.sk-toggleable__control:checked~div.sk-toggleable__content {max-height: 200px;max-width: 100%;overflow: auto;}#sk-container-id-1 input.sk-toggleable__control:checked~label.sk-toggleable__label-arrow:before {content: \"▾\";}#sk-container-id-1 div.sk-estimator input.sk-toggleable__control:checked~label.sk-toggleable__label {background-color: #d4ebff;}#sk-container-id-1 div.sk-label input.sk-toggleable__control:checked~label.sk-toggleable__label {background-color: #d4ebff;}#sk-container-id-1 input.sk-hidden--visually {border: 0;clip: rect(1px 1px 1px 1px);clip: rect(1px, 1px, 1px, 1px);height: 1px;margin: -1px;overflow: hidden;padding: 0;position: absolute;width: 1px;}#sk-container-id-1 div.sk-estimator {font-family: monospace;background-color: #f0f8ff;border: 1px dotted black;border-radius: 0.25em;box-sizing: border-box;margin-bottom: 0.5em;}#sk-container-id-1 div.sk-estimator:hover {background-color: #d4ebff;}#sk-container-id-1 div.sk-parallel-item::after {content: \"\";width: 100%;border-bottom: 1px solid gray;flex-grow: 1;}#sk-container-id-1 div.sk-label:hover label.sk-toggleable__label {background-color: #d4ebff;}#sk-container-id-1 div.sk-serial::before {content: \"\";position: absolute;border-left: 1px solid gray;box-sizing: border-box;top: 0;bottom: 0;left: 50%;z-index: 0;}#sk-container-id-1 div.sk-serial {display: flex;flex-direction: column;align-items: center;background-color: white;padding-right: 0.2em;padding-left: 0.2em;position: relative;}#sk-container-id-1 div.sk-item {position: relative;z-index: 1;}#sk-container-id-1 div.sk-parallel {display: flex;align-items: stretch;justify-content: center;background-color: white;position: relative;}#sk-container-id-1 div.sk-item::before, #sk-container-id-1 div.sk-parallel-item::before {content: \"\";position: absolute;border-left: 1px solid gray;box-sizing: border-box;top: 0;bottom: 0;left: 50%;z-index: -1;}#sk-container-id-1 div.sk-parallel-item {display: flex;flex-direction: column;z-index: 1;position: relative;background-color: white;}#sk-container-id-1 div.sk-parallel-item:first-child::after {align-self: flex-end;width: 50%;}#sk-container-id-1 div.sk-parallel-item:last-child::after {align-self: flex-start;width: 50%;}#sk-container-id-1 div.sk-parallel-item:only-child::after {width: 0;}#sk-container-id-1 div.sk-dashed-wrapped {border: 1px dashed gray;margin: 0 0.4em 0.5em 0.4em;box-sizing: border-box;padding-bottom: 0.4em;background-color: white;}#sk-container-id-1 div.sk-label label {font-family: monospace;font-weight: bold;display: inline-block;line-height: 1.2em;}#sk-container-id-1 div.sk-label-container {text-align: center;}#sk-container-id-1 div.sk-container {/* jupyter's `normalize.less` sets `[hidden] { display: none; }` but bootstrap.min.css set `[hidden] { display: none !important; }` so we also need the `!important` here to be able to override the default hidden behavior on the sphinx rendered scikit-learn.org. See: https://github.com/scikit-learn/scikit-learn/issues/21755 */display: inline-block !important;position: relative;}#sk-container-id-1 div.sk-text-repr-fallback {display: none;}</style><div id=\"sk-container-id-1\" class=\"sk-top-container\"><div class=\"sk-text-repr-fallback\"><pre>LogisticRegression(random_state=0)</pre><b>In a Jupyter environment, please rerun this cell to show the HTML representation or trust the notebook. <br />On GitHub, the HTML representation is unable to render, please try loading this page with nbviewer.org.</b></div><div class=\"sk-container\" hidden><div class=\"sk-item\"><div class=\"sk-estimator sk-toggleable\"><input class=\"sk-toggleable__control sk-hidden--visually\" id=\"sk-estimator-id-1\" type=\"checkbox\" checked><label for=\"sk-estimator-id-1\" class=\"sk-toggleable__label sk-toggleable__label-arrow\">LogisticRegression</label><div class=\"sk-toggleable__content\"><pre>LogisticRegression(random_state=0)</pre></div></div></div></div></div>"
      ],
      "text/plain": [
       "LogisticRegression(random_state=0)"
      ]
     },
     "execution_count": 19,
     "metadata": {},
     "output_type": "execute_result"
    }
   ],
   "source": [
    "from sklearn.linear_model import LogisticRegression\n",
    "LR_model = LogisticRegression(random_state = 0)\n",
    "LR_model.fit(x_train, y_train)"
   ]
  },
  {
   "cell_type": "code",
   "execution_count": 20,
   "metadata": {},
   "outputs": [],
   "source": [
    "y_pred = LR_model.predict(x_test)"
   ]
  },
  {
   "cell_type": "code",
   "execution_count": 21,
   "metadata": {},
   "outputs": [],
   "source": [
    "from sklearn.metrics import accuracy_score"
   ]
  },
  {
   "cell_type": "code",
   "execution_count": 22,
   "metadata": {},
   "outputs": [],
   "source": [
    "acc_lr = accuracy_score(y_test, y_pred)"
   ]
  },
  {
   "cell_type": "code",
   "execution_count": 23,
   "metadata": {},
   "outputs": [
    {
     "name": "stdout",
     "output_type": "stream",
     "text": [
      "0.8025\n"
     ]
    }
   ],
   "source": [
    "print(acc_lr)"
   ]
  },
  {
   "cell_type": "markdown",
   "metadata": {},
   "source": [
    "K-NEAREST NEIGHBORS (KNN)"
   ]
  },
  {
   "cell_type": "code",
   "execution_count": 24,
   "metadata": {},
   "outputs": [
    {
     "data": {
      "text/html": [
       "<style>#sk-container-id-2 {color: black;background-color: white;}#sk-container-id-2 pre{padding: 0;}#sk-container-id-2 div.sk-toggleable {background-color: white;}#sk-container-id-2 label.sk-toggleable__label {cursor: pointer;display: block;width: 100%;margin-bottom: 0;padding: 0.3em;box-sizing: border-box;text-align: center;}#sk-container-id-2 label.sk-toggleable__label-arrow:before {content: \"▸\";float: left;margin-right: 0.25em;color: #696969;}#sk-container-id-2 label.sk-toggleable__label-arrow:hover:before {color: black;}#sk-container-id-2 div.sk-estimator:hover label.sk-toggleable__label-arrow:before {color: black;}#sk-container-id-2 div.sk-toggleable__content {max-height: 0;max-width: 0;overflow: hidden;text-align: left;background-color: #f0f8ff;}#sk-container-id-2 div.sk-toggleable__content pre {margin: 0.2em;color: black;border-radius: 0.25em;background-color: #f0f8ff;}#sk-container-id-2 input.sk-toggleable__control:checked~div.sk-toggleable__content {max-height: 200px;max-width: 100%;overflow: auto;}#sk-container-id-2 input.sk-toggleable__control:checked~label.sk-toggleable__label-arrow:before {content: \"▾\";}#sk-container-id-2 div.sk-estimator input.sk-toggleable__control:checked~label.sk-toggleable__label {background-color: #d4ebff;}#sk-container-id-2 div.sk-label input.sk-toggleable__control:checked~label.sk-toggleable__label {background-color: #d4ebff;}#sk-container-id-2 input.sk-hidden--visually {border: 0;clip: rect(1px 1px 1px 1px);clip: rect(1px, 1px, 1px, 1px);height: 1px;margin: -1px;overflow: hidden;padding: 0;position: absolute;width: 1px;}#sk-container-id-2 div.sk-estimator {font-family: monospace;background-color: #f0f8ff;border: 1px dotted black;border-radius: 0.25em;box-sizing: border-box;margin-bottom: 0.5em;}#sk-container-id-2 div.sk-estimator:hover {background-color: #d4ebff;}#sk-container-id-2 div.sk-parallel-item::after {content: \"\";width: 100%;border-bottom: 1px solid gray;flex-grow: 1;}#sk-container-id-2 div.sk-label:hover label.sk-toggleable__label {background-color: #d4ebff;}#sk-container-id-2 div.sk-serial::before {content: \"\";position: absolute;border-left: 1px solid gray;box-sizing: border-box;top: 0;bottom: 0;left: 50%;z-index: 0;}#sk-container-id-2 div.sk-serial {display: flex;flex-direction: column;align-items: center;background-color: white;padding-right: 0.2em;padding-left: 0.2em;position: relative;}#sk-container-id-2 div.sk-item {position: relative;z-index: 1;}#sk-container-id-2 div.sk-parallel {display: flex;align-items: stretch;justify-content: center;background-color: white;position: relative;}#sk-container-id-2 div.sk-item::before, #sk-container-id-2 div.sk-parallel-item::before {content: \"\";position: absolute;border-left: 1px solid gray;box-sizing: border-box;top: 0;bottom: 0;left: 50%;z-index: -1;}#sk-container-id-2 div.sk-parallel-item {display: flex;flex-direction: column;z-index: 1;position: relative;background-color: white;}#sk-container-id-2 div.sk-parallel-item:first-child::after {align-self: flex-end;width: 50%;}#sk-container-id-2 div.sk-parallel-item:last-child::after {align-self: flex-start;width: 50%;}#sk-container-id-2 div.sk-parallel-item:only-child::after {width: 0;}#sk-container-id-2 div.sk-dashed-wrapped {border: 1px dashed gray;margin: 0 0.4em 0.5em 0.4em;box-sizing: border-box;padding-bottom: 0.4em;background-color: white;}#sk-container-id-2 div.sk-label label {font-family: monospace;font-weight: bold;display: inline-block;line-height: 1.2em;}#sk-container-id-2 div.sk-label-container {text-align: center;}#sk-container-id-2 div.sk-container {/* jupyter's `normalize.less` sets `[hidden] { display: none; }` but bootstrap.min.css set `[hidden] { display: none !important; }` so we also need the `!important` here to be able to override the default hidden behavior on the sphinx rendered scikit-learn.org. See: https://github.com/scikit-learn/scikit-learn/issues/21755 */display: inline-block !important;position: relative;}#sk-container-id-2 div.sk-text-repr-fallback {display: none;}</style><div id=\"sk-container-id-2\" class=\"sk-top-container\"><div class=\"sk-text-repr-fallback\"><pre>KNeighborsClassifier()</pre><b>In a Jupyter environment, please rerun this cell to show the HTML representation or trust the notebook. <br />On GitHub, the HTML representation is unable to render, please try loading this page with nbviewer.org.</b></div><div class=\"sk-container\" hidden><div class=\"sk-item\"><div class=\"sk-estimator sk-toggleable\"><input class=\"sk-toggleable__control sk-hidden--visually\" id=\"sk-estimator-id-2\" type=\"checkbox\" checked><label for=\"sk-estimator-id-2\" class=\"sk-toggleable__label sk-toggleable__label-arrow\">KNeighborsClassifier</label><div class=\"sk-toggleable__content\"><pre>KNeighborsClassifier()</pre></div></div></div></div></div>"
      ],
      "text/plain": [
       "KNeighborsClassifier()"
      ]
     },
     "execution_count": 24,
     "metadata": {},
     "output_type": "execute_result"
    }
   ],
   "source": [
    "from sklearn.neighbors import KNeighborsClassifier\n",
    "KNN_model = KNeighborsClassifier(n_neighbors = 5, metric = 'minkowski', p = 2)\n",
    "KNN_model.fit(x_train, y_train)"
   ]
  },
  {
   "cell_type": "code",
   "execution_count": 25,
   "metadata": {},
   "outputs": [],
   "source": [
    "y_pred = KNN_model.predict(x_test)"
   ]
  },
  {
   "cell_type": "code",
   "execution_count": 26,
   "metadata": {},
   "outputs": [],
   "source": [
    "acc_knn = accuracy_score(y_test, y_pred)"
   ]
  },
  {
   "cell_type": "code",
   "execution_count": 27,
   "metadata": {},
   "outputs": [
    {
     "name": "stdout",
     "output_type": "stream",
     "text": [
      "0.83\n"
     ]
    }
   ],
   "source": [
    "print(acc_knn)"
   ]
  },
  {
   "cell_type": "markdown",
   "metadata": {},
   "source": [
    "SUPPORT VECTOR MACHINE (SVM)"
   ]
  },
  {
   "cell_type": "code",
   "execution_count": 28,
   "metadata": {},
   "outputs": [
    {
     "data": {
      "text/html": [
       "<style>#sk-container-id-3 {color: black;background-color: white;}#sk-container-id-3 pre{padding: 0;}#sk-container-id-3 div.sk-toggleable {background-color: white;}#sk-container-id-3 label.sk-toggleable__label {cursor: pointer;display: block;width: 100%;margin-bottom: 0;padding: 0.3em;box-sizing: border-box;text-align: center;}#sk-container-id-3 label.sk-toggleable__label-arrow:before {content: \"▸\";float: left;margin-right: 0.25em;color: #696969;}#sk-container-id-3 label.sk-toggleable__label-arrow:hover:before {color: black;}#sk-container-id-3 div.sk-estimator:hover label.sk-toggleable__label-arrow:before {color: black;}#sk-container-id-3 div.sk-toggleable__content {max-height: 0;max-width: 0;overflow: hidden;text-align: left;background-color: #f0f8ff;}#sk-container-id-3 div.sk-toggleable__content pre {margin: 0.2em;color: black;border-radius: 0.25em;background-color: #f0f8ff;}#sk-container-id-3 input.sk-toggleable__control:checked~div.sk-toggleable__content {max-height: 200px;max-width: 100%;overflow: auto;}#sk-container-id-3 input.sk-toggleable__control:checked~label.sk-toggleable__label-arrow:before {content: \"▾\";}#sk-container-id-3 div.sk-estimator input.sk-toggleable__control:checked~label.sk-toggleable__label {background-color: #d4ebff;}#sk-container-id-3 div.sk-label input.sk-toggleable__control:checked~label.sk-toggleable__label {background-color: #d4ebff;}#sk-container-id-3 input.sk-hidden--visually {border: 0;clip: rect(1px 1px 1px 1px);clip: rect(1px, 1px, 1px, 1px);height: 1px;margin: -1px;overflow: hidden;padding: 0;position: absolute;width: 1px;}#sk-container-id-3 div.sk-estimator {font-family: monospace;background-color: #f0f8ff;border: 1px dotted black;border-radius: 0.25em;box-sizing: border-box;margin-bottom: 0.5em;}#sk-container-id-3 div.sk-estimator:hover {background-color: #d4ebff;}#sk-container-id-3 div.sk-parallel-item::after {content: \"\";width: 100%;border-bottom: 1px solid gray;flex-grow: 1;}#sk-container-id-3 div.sk-label:hover label.sk-toggleable__label {background-color: #d4ebff;}#sk-container-id-3 div.sk-serial::before {content: \"\";position: absolute;border-left: 1px solid gray;box-sizing: border-box;top: 0;bottom: 0;left: 50%;z-index: 0;}#sk-container-id-3 div.sk-serial {display: flex;flex-direction: column;align-items: center;background-color: white;padding-right: 0.2em;padding-left: 0.2em;position: relative;}#sk-container-id-3 div.sk-item {position: relative;z-index: 1;}#sk-container-id-3 div.sk-parallel {display: flex;align-items: stretch;justify-content: center;background-color: white;position: relative;}#sk-container-id-3 div.sk-item::before, #sk-container-id-3 div.sk-parallel-item::before {content: \"\";position: absolute;border-left: 1px solid gray;box-sizing: border-box;top: 0;bottom: 0;left: 50%;z-index: -1;}#sk-container-id-3 div.sk-parallel-item {display: flex;flex-direction: column;z-index: 1;position: relative;background-color: white;}#sk-container-id-3 div.sk-parallel-item:first-child::after {align-self: flex-end;width: 50%;}#sk-container-id-3 div.sk-parallel-item:last-child::after {align-self: flex-start;width: 50%;}#sk-container-id-3 div.sk-parallel-item:only-child::after {width: 0;}#sk-container-id-3 div.sk-dashed-wrapped {border: 1px dashed gray;margin: 0 0.4em 0.5em 0.4em;box-sizing: border-box;padding-bottom: 0.4em;background-color: white;}#sk-container-id-3 div.sk-label label {font-family: monospace;font-weight: bold;display: inline-block;line-height: 1.2em;}#sk-container-id-3 div.sk-label-container {text-align: center;}#sk-container-id-3 div.sk-container {/* jupyter's `normalize.less` sets `[hidden] { display: none; }` but bootstrap.min.css set `[hidden] { display: none !important; }` so we also need the `!important` here to be able to override the default hidden behavior on the sphinx rendered scikit-learn.org. See: https://github.com/scikit-learn/scikit-learn/issues/21755 */display: inline-block !important;position: relative;}#sk-container-id-3 div.sk-text-repr-fallback {display: none;}</style><div id=\"sk-container-id-3\" class=\"sk-top-container\"><div class=\"sk-text-repr-fallback\"><pre>SVC(kernel=&#x27;linear&#x27;, random_state=0)</pre><b>In a Jupyter environment, please rerun this cell to show the HTML representation or trust the notebook. <br />On GitHub, the HTML representation is unable to render, please try loading this page with nbviewer.org.</b></div><div class=\"sk-container\" hidden><div class=\"sk-item\"><div class=\"sk-estimator sk-toggleable\"><input class=\"sk-toggleable__control sk-hidden--visually\" id=\"sk-estimator-id-3\" type=\"checkbox\" checked><label for=\"sk-estimator-id-3\" class=\"sk-toggleable__label sk-toggleable__label-arrow\">SVC</label><div class=\"sk-toggleable__content\"><pre>SVC(kernel=&#x27;linear&#x27;, random_state=0)</pre></div></div></div></div></div>"
      ],
      "text/plain": [
       "SVC(kernel='linear', random_state=0)"
      ]
     },
     "execution_count": 28,
     "metadata": {},
     "output_type": "execute_result"
    }
   ],
   "source": [
    "from sklearn.svm import SVC\n",
    "SVM_model = SVC(kernel = 'linear', random_state = 0)\n",
    "SVM_model.fit(x_train, y_train)"
   ]
  },
  {
   "cell_type": "code",
   "execution_count": 29,
   "metadata": {},
   "outputs": [],
   "source": [
    "y_pred = SVM_model.predict(x_test)"
   ]
  },
  {
   "cell_type": "code",
   "execution_count": 30,
   "metadata": {
    "scrolled": false
   },
   "outputs": [],
   "source": [
    "acc_svm = accuracy_score(y_test, y_pred)"
   ]
  },
  {
   "cell_type": "code",
   "execution_count": 31,
   "metadata": {},
   "outputs": [
    {
     "name": "stdout",
     "output_type": "stream",
     "text": [
      "0.815\n"
     ]
    }
   ],
   "source": [
    "print(acc_svm)"
   ]
  },
  {
   "cell_type": "markdown",
   "metadata": {},
   "source": [
    "NAIVE BAYES (NB)"
   ]
  },
  {
   "cell_type": "code",
   "execution_count": 32,
   "metadata": {},
   "outputs": [
    {
     "data": {
      "text/html": [
       "<style>#sk-container-id-4 {color: black;background-color: white;}#sk-container-id-4 pre{padding: 0;}#sk-container-id-4 div.sk-toggleable {background-color: white;}#sk-container-id-4 label.sk-toggleable__label {cursor: pointer;display: block;width: 100%;margin-bottom: 0;padding: 0.3em;box-sizing: border-box;text-align: center;}#sk-container-id-4 label.sk-toggleable__label-arrow:before {content: \"▸\";float: left;margin-right: 0.25em;color: #696969;}#sk-container-id-4 label.sk-toggleable__label-arrow:hover:before {color: black;}#sk-container-id-4 div.sk-estimator:hover label.sk-toggleable__label-arrow:before {color: black;}#sk-container-id-4 div.sk-toggleable__content {max-height: 0;max-width: 0;overflow: hidden;text-align: left;background-color: #f0f8ff;}#sk-container-id-4 div.sk-toggleable__content pre {margin: 0.2em;color: black;border-radius: 0.25em;background-color: #f0f8ff;}#sk-container-id-4 input.sk-toggleable__control:checked~div.sk-toggleable__content {max-height: 200px;max-width: 100%;overflow: auto;}#sk-container-id-4 input.sk-toggleable__control:checked~label.sk-toggleable__label-arrow:before {content: \"▾\";}#sk-container-id-4 div.sk-estimator input.sk-toggleable__control:checked~label.sk-toggleable__label {background-color: #d4ebff;}#sk-container-id-4 div.sk-label input.sk-toggleable__control:checked~label.sk-toggleable__label {background-color: #d4ebff;}#sk-container-id-4 input.sk-hidden--visually {border: 0;clip: rect(1px 1px 1px 1px);clip: rect(1px, 1px, 1px, 1px);height: 1px;margin: -1px;overflow: hidden;padding: 0;position: absolute;width: 1px;}#sk-container-id-4 div.sk-estimator {font-family: monospace;background-color: #f0f8ff;border: 1px dotted black;border-radius: 0.25em;box-sizing: border-box;margin-bottom: 0.5em;}#sk-container-id-4 div.sk-estimator:hover {background-color: #d4ebff;}#sk-container-id-4 div.sk-parallel-item::after {content: \"\";width: 100%;border-bottom: 1px solid gray;flex-grow: 1;}#sk-container-id-4 div.sk-label:hover label.sk-toggleable__label {background-color: #d4ebff;}#sk-container-id-4 div.sk-serial::before {content: \"\";position: absolute;border-left: 1px solid gray;box-sizing: border-box;top: 0;bottom: 0;left: 50%;z-index: 0;}#sk-container-id-4 div.sk-serial {display: flex;flex-direction: column;align-items: center;background-color: white;padding-right: 0.2em;padding-left: 0.2em;position: relative;}#sk-container-id-4 div.sk-item {position: relative;z-index: 1;}#sk-container-id-4 div.sk-parallel {display: flex;align-items: stretch;justify-content: center;background-color: white;position: relative;}#sk-container-id-4 div.sk-item::before, #sk-container-id-4 div.sk-parallel-item::before {content: \"\";position: absolute;border-left: 1px solid gray;box-sizing: border-box;top: 0;bottom: 0;left: 50%;z-index: -1;}#sk-container-id-4 div.sk-parallel-item {display: flex;flex-direction: column;z-index: 1;position: relative;background-color: white;}#sk-container-id-4 div.sk-parallel-item:first-child::after {align-self: flex-end;width: 50%;}#sk-container-id-4 div.sk-parallel-item:last-child::after {align-self: flex-start;width: 50%;}#sk-container-id-4 div.sk-parallel-item:only-child::after {width: 0;}#sk-container-id-4 div.sk-dashed-wrapped {border: 1px dashed gray;margin: 0 0.4em 0.5em 0.4em;box-sizing: border-box;padding-bottom: 0.4em;background-color: white;}#sk-container-id-4 div.sk-label label {font-family: monospace;font-weight: bold;display: inline-block;line-height: 1.2em;}#sk-container-id-4 div.sk-label-container {text-align: center;}#sk-container-id-4 div.sk-container {/* jupyter's `normalize.less` sets `[hidden] { display: none; }` but bootstrap.min.css set `[hidden] { display: none !important; }` so we also need the `!important` here to be able to override the default hidden behavior on the sphinx rendered scikit-learn.org. See: https://github.com/scikit-learn/scikit-learn/issues/21755 */display: inline-block !important;position: relative;}#sk-container-id-4 div.sk-text-repr-fallback {display: none;}</style><div id=\"sk-container-id-4\" class=\"sk-top-container\"><div class=\"sk-text-repr-fallback\"><pre>GaussianNB()</pre><b>In a Jupyter environment, please rerun this cell to show the HTML representation or trust the notebook. <br />On GitHub, the HTML representation is unable to render, please try loading this page with nbviewer.org.</b></div><div class=\"sk-container\" hidden><div class=\"sk-item\"><div class=\"sk-estimator sk-toggleable\"><input class=\"sk-toggleable__control sk-hidden--visually\" id=\"sk-estimator-id-4\" type=\"checkbox\" checked><label for=\"sk-estimator-id-4\" class=\"sk-toggleable__label sk-toggleable__label-arrow\">GaussianNB</label><div class=\"sk-toggleable__content\"><pre>GaussianNB()</pre></div></div></div></div></div>"
      ],
      "text/plain": [
       "GaussianNB()"
      ]
     },
     "execution_count": 32,
     "metadata": {},
     "output_type": "execute_result"
    }
   ],
   "source": [
    "from sklearn.naive_bayes import GaussianNB\n",
    "NB_model = GaussianNB()\n",
    "NB_model.fit(x_train, y_train)"
   ]
  },
  {
   "cell_type": "code",
   "execution_count": 33,
   "metadata": {},
   "outputs": [],
   "source": [
    "y_pred = NB_model.predict(x_test)"
   ]
  },
  {
   "cell_type": "code",
   "execution_count": 34,
   "metadata": {},
   "outputs": [],
   "source": [
    "acc_nb = accuracy_score(y_test, y_pred)"
   ]
  },
  {
   "cell_type": "code",
   "execution_count": 35,
   "metadata": {},
   "outputs": [
    {
     "name": "stdout",
     "output_type": "stream",
     "text": [
      "0.8125\n"
     ]
    }
   ],
   "source": [
    "print(acc_nb)"
   ]
  },
  {
   "cell_type": "markdown",
   "metadata": {},
   "source": [
    "DECISION TREE (DT)"
   ]
  },
  {
   "cell_type": "code",
   "execution_count": 36,
   "metadata": {},
   "outputs": [
    {
     "data": {
      "text/html": [
       "<style>#sk-container-id-5 {color: black;background-color: white;}#sk-container-id-5 pre{padding: 0;}#sk-container-id-5 div.sk-toggleable {background-color: white;}#sk-container-id-5 label.sk-toggleable__label {cursor: pointer;display: block;width: 100%;margin-bottom: 0;padding: 0.3em;box-sizing: border-box;text-align: center;}#sk-container-id-5 label.sk-toggleable__label-arrow:before {content: \"▸\";float: left;margin-right: 0.25em;color: #696969;}#sk-container-id-5 label.sk-toggleable__label-arrow:hover:before {color: black;}#sk-container-id-5 div.sk-estimator:hover label.sk-toggleable__label-arrow:before {color: black;}#sk-container-id-5 div.sk-toggleable__content {max-height: 0;max-width: 0;overflow: hidden;text-align: left;background-color: #f0f8ff;}#sk-container-id-5 div.sk-toggleable__content pre {margin: 0.2em;color: black;border-radius: 0.25em;background-color: #f0f8ff;}#sk-container-id-5 input.sk-toggleable__control:checked~div.sk-toggleable__content {max-height: 200px;max-width: 100%;overflow: auto;}#sk-container-id-5 input.sk-toggleable__control:checked~label.sk-toggleable__label-arrow:before {content: \"▾\";}#sk-container-id-5 div.sk-estimator input.sk-toggleable__control:checked~label.sk-toggleable__label {background-color: #d4ebff;}#sk-container-id-5 div.sk-label input.sk-toggleable__control:checked~label.sk-toggleable__label {background-color: #d4ebff;}#sk-container-id-5 input.sk-hidden--visually {border: 0;clip: rect(1px 1px 1px 1px);clip: rect(1px, 1px, 1px, 1px);height: 1px;margin: -1px;overflow: hidden;padding: 0;position: absolute;width: 1px;}#sk-container-id-5 div.sk-estimator {font-family: monospace;background-color: #f0f8ff;border: 1px dotted black;border-radius: 0.25em;box-sizing: border-box;margin-bottom: 0.5em;}#sk-container-id-5 div.sk-estimator:hover {background-color: #d4ebff;}#sk-container-id-5 div.sk-parallel-item::after {content: \"\";width: 100%;border-bottom: 1px solid gray;flex-grow: 1;}#sk-container-id-5 div.sk-label:hover label.sk-toggleable__label {background-color: #d4ebff;}#sk-container-id-5 div.sk-serial::before {content: \"\";position: absolute;border-left: 1px solid gray;box-sizing: border-box;top: 0;bottom: 0;left: 50%;z-index: 0;}#sk-container-id-5 div.sk-serial {display: flex;flex-direction: column;align-items: center;background-color: white;padding-right: 0.2em;padding-left: 0.2em;position: relative;}#sk-container-id-5 div.sk-item {position: relative;z-index: 1;}#sk-container-id-5 div.sk-parallel {display: flex;align-items: stretch;justify-content: center;background-color: white;position: relative;}#sk-container-id-5 div.sk-item::before, #sk-container-id-5 div.sk-parallel-item::before {content: \"\";position: absolute;border-left: 1px solid gray;box-sizing: border-box;top: 0;bottom: 0;left: 50%;z-index: -1;}#sk-container-id-5 div.sk-parallel-item {display: flex;flex-direction: column;z-index: 1;position: relative;background-color: white;}#sk-container-id-5 div.sk-parallel-item:first-child::after {align-self: flex-end;width: 50%;}#sk-container-id-5 div.sk-parallel-item:last-child::after {align-self: flex-start;width: 50%;}#sk-container-id-5 div.sk-parallel-item:only-child::after {width: 0;}#sk-container-id-5 div.sk-dashed-wrapped {border: 1px dashed gray;margin: 0 0.4em 0.5em 0.4em;box-sizing: border-box;padding-bottom: 0.4em;background-color: white;}#sk-container-id-5 div.sk-label label {font-family: monospace;font-weight: bold;display: inline-block;line-height: 1.2em;}#sk-container-id-5 div.sk-label-container {text-align: center;}#sk-container-id-5 div.sk-container {/* jupyter's `normalize.less` sets `[hidden] { display: none; }` but bootstrap.min.css set `[hidden] { display: none !important; }` so we also need the `!important` here to be able to override the default hidden behavior on the sphinx rendered scikit-learn.org. See: https://github.com/scikit-learn/scikit-learn/issues/21755 */display: inline-block !important;position: relative;}#sk-container-id-5 div.sk-text-repr-fallback {display: none;}</style><div id=\"sk-container-id-5\" class=\"sk-top-container\"><div class=\"sk-text-repr-fallback\"><pre>DecisionTreeClassifier(criterion=&#x27;entropy&#x27;, random_state=0)</pre><b>In a Jupyter environment, please rerun this cell to show the HTML representation or trust the notebook. <br />On GitHub, the HTML representation is unable to render, please try loading this page with nbviewer.org.</b></div><div class=\"sk-container\" hidden><div class=\"sk-item\"><div class=\"sk-estimator sk-toggleable\"><input class=\"sk-toggleable__control sk-hidden--visually\" id=\"sk-estimator-id-5\" type=\"checkbox\" checked><label for=\"sk-estimator-id-5\" class=\"sk-toggleable__label sk-toggleable__label-arrow\">DecisionTreeClassifier</label><div class=\"sk-toggleable__content\"><pre>DecisionTreeClassifier(criterion=&#x27;entropy&#x27;, random_state=0)</pre></div></div></div></div></div>"
      ],
      "text/plain": [
       "DecisionTreeClassifier(criterion='entropy', random_state=0)"
      ]
     },
     "execution_count": 36,
     "metadata": {},
     "output_type": "execute_result"
    }
   ],
   "source": [
    "from sklearn.tree import DecisionTreeClassifier\n",
    "DT_model = DecisionTreeClassifier(criterion = 'entropy', random_state = 0)\n",
    "DT_model.fit(x_train, y_train)"
   ]
  },
  {
   "cell_type": "code",
   "execution_count": 37,
   "metadata": {},
   "outputs": [],
   "source": [
    "y_pred = DT_model.predict(x_test)"
   ]
  },
  {
   "cell_type": "code",
   "execution_count": 38,
   "metadata": {},
   "outputs": [],
   "source": [
    "acc_dt = accuracy_score(y_test, y_pred)"
   ]
  },
  {
   "cell_type": "code",
   "execution_count": 39,
   "metadata": {},
   "outputs": [
    {
     "name": "stdout",
     "output_type": "stream",
     "text": [
      "0.9475\n"
     ]
    }
   ],
   "source": [
    "print(acc_dt)"
   ]
  },
  {
   "cell_type": "markdown",
   "metadata": {},
   "source": [
    "RANDOM FOREST (RF)"
   ]
  },
  {
   "cell_type": "code",
   "execution_count": 40,
   "metadata": {},
   "outputs": [
    {
     "data": {
      "text/html": [
       "<style>#sk-container-id-6 {color: black;background-color: white;}#sk-container-id-6 pre{padding: 0;}#sk-container-id-6 div.sk-toggleable {background-color: white;}#sk-container-id-6 label.sk-toggleable__label {cursor: pointer;display: block;width: 100%;margin-bottom: 0;padding: 0.3em;box-sizing: border-box;text-align: center;}#sk-container-id-6 label.sk-toggleable__label-arrow:before {content: \"▸\";float: left;margin-right: 0.25em;color: #696969;}#sk-container-id-6 label.sk-toggleable__label-arrow:hover:before {color: black;}#sk-container-id-6 div.sk-estimator:hover label.sk-toggleable__label-arrow:before {color: black;}#sk-container-id-6 div.sk-toggleable__content {max-height: 0;max-width: 0;overflow: hidden;text-align: left;background-color: #f0f8ff;}#sk-container-id-6 div.sk-toggleable__content pre {margin: 0.2em;color: black;border-radius: 0.25em;background-color: #f0f8ff;}#sk-container-id-6 input.sk-toggleable__control:checked~div.sk-toggleable__content {max-height: 200px;max-width: 100%;overflow: auto;}#sk-container-id-6 input.sk-toggleable__control:checked~label.sk-toggleable__label-arrow:before {content: \"▾\";}#sk-container-id-6 div.sk-estimator input.sk-toggleable__control:checked~label.sk-toggleable__label {background-color: #d4ebff;}#sk-container-id-6 div.sk-label input.sk-toggleable__control:checked~label.sk-toggleable__label {background-color: #d4ebff;}#sk-container-id-6 input.sk-hidden--visually {border: 0;clip: rect(1px 1px 1px 1px);clip: rect(1px, 1px, 1px, 1px);height: 1px;margin: -1px;overflow: hidden;padding: 0;position: absolute;width: 1px;}#sk-container-id-6 div.sk-estimator {font-family: monospace;background-color: #f0f8ff;border: 1px dotted black;border-radius: 0.25em;box-sizing: border-box;margin-bottom: 0.5em;}#sk-container-id-6 div.sk-estimator:hover {background-color: #d4ebff;}#sk-container-id-6 div.sk-parallel-item::after {content: \"\";width: 100%;border-bottom: 1px solid gray;flex-grow: 1;}#sk-container-id-6 div.sk-label:hover label.sk-toggleable__label {background-color: #d4ebff;}#sk-container-id-6 div.sk-serial::before {content: \"\";position: absolute;border-left: 1px solid gray;box-sizing: border-box;top: 0;bottom: 0;left: 50%;z-index: 0;}#sk-container-id-6 div.sk-serial {display: flex;flex-direction: column;align-items: center;background-color: white;padding-right: 0.2em;padding-left: 0.2em;position: relative;}#sk-container-id-6 div.sk-item {position: relative;z-index: 1;}#sk-container-id-6 div.sk-parallel {display: flex;align-items: stretch;justify-content: center;background-color: white;position: relative;}#sk-container-id-6 div.sk-item::before, #sk-container-id-6 div.sk-parallel-item::before {content: \"\";position: absolute;border-left: 1px solid gray;box-sizing: border-box;top: 0;bottom: 0;left: 50%;z-index: -1;}#sk-container-id-6 div.sk-parallel-item {display: flex;flex-direction: column;z-index: 1;position: relative;background-color: white;}#sk-container-id-6 div.sk-parallel-item:first-child::after {align-self: flex-end;width: 50%;}#sk-container-id-6 div.sk-parallel-item:last-child::after {align-self: flex-start;width: 50%;}#sk-container-id-6 div.sk-parallel-item:only-child::after {width: 0;}#sk-container-id-6 div.sk-dashed-wrapped {border: 1px dashed gray;margin: 0 0.4em 0.5em 0.4em;box-sizing: border-box;padding-bottom: 0.4em;background-color: white;}#sk-container-id-6 div.sk-label label {font-family: monospace;font-weight: bold;display: inline-block;line-height: 1.2em;}#sk-container-id-6 div.sk-label-container {text-align: center;}#sk-container-id-6 div.sk-container {/* jupyter's `normalize.less` sets `[hidden] { display: none; }` but bootstrap.min.css set `[hidden] { display: none !important; }` so we also need the `!important` here to be able to override the default hidden behavior on the sphinx rendered scikit-learn.org. See: https://github.com/scikit-learn/scikit-learn/issues/21755 */display: inline-block !important;position: relative;}#sk-container-id-6 div.sk-text-repr-fallback {display: none;}</style><div id=\"sk-container-id-6\" class=\"sk-top-container\"><div class=\"sk-text-repr-fallback\"><pre>RandomForestClassifier()</pre><b>In a Jupyter environment, please rerun this cell to show the HTML representation or trust the notebook. <br />On GitHub, the HTML representation is unable to render, please try loading this page with nbviewer.org.</b></div><div class=\"sk-container\" hidden><div class=\"sk-item\"><div class=\"sk-estimator sk-toggleable\"><input class=\"sk-toggleable__control sk-hidden--visually\" id=\"sk-estimator-id-6\" type=\"checkbox\" checked><label for=\"sk-estimator-id-6\" class=\"sk-toggleable__label sk-toggleable__label-arrow\">RandomForestClassifier</label><div class=\"sk-toggleable__content\"><pre>RandomForestClassifier()</pre></div></div></div></div></div>"
      ],
      "text/plain": [
       "RandomForestClassifier()"
      ]
     },
     "execution_count": 40,
     "metadata": {},
     "output_type": "execute_result"
    }
   ],
   "source": [
    "from sklearn.ensemble import RandomForestClassifier\n",
    "RF_model = RandomForestClassifier()\n",
    "RF_model.fit(x_train, y_train)"
   ]
  },
  {
   "cell_type": "code",
   "execution_count": 41,
   "metadata": {},
   "outputs": [],
   "source": [
    "y_pred = RF_model.predict(x_test)"
   ]
  },
  {
   "cell_type": "code",
   "execution_count": 42,
   "metadata": {},
   "outputs": [],
   "source": [
    "acc_rf = accuracy_score(y_test, y_pred)"
   ]
  },
  {
   "cell_type": "code",
   "execution_count": 43,
   "metadata": {},
   "outputs": [
    {
     "name": "stdout",
     "output_type": "stream",
     "text": [
      "0.955\n"
     ]
    }
   ],
   "source": [
    "print(acc_rf)"
   ]
  },
  {
   "cell_type": "markdown",
   "metadata": {},
   "source": [
    "CONVOLUTIONAL NEURAL NETWORK (CNN)"
   ]
  },
  {
   "cell_type": "code",
   "execution_count": 44,
   "metadata": {},
   "outputs": [],
   "source": [
    "import tensorflow as tf"
   ]
  },
  {
   "cell_type": "code",
   "execution_count": 45,
   "metadata": {},
   "outputs": [],
   "source": [
    "CNN_model = tf.keras.models.Sequential()"
   ]
  },
  {
   "cell_type": "code",
   "execution_count": 46,
   "metadata": {},
   "outputs": [],
   "source": [
    "CNN_model.add(tf.keras.layers.Dense(64, input_dim = 10, activation = 'relu'))\n",
    "CNN_model.add(tf.keras.layers.Dense(128, activation = 'relu'))\n",
    "CNN_model.add(tf.keras.layers.Dense(1, activation = 'sigmoid'))"
   ]
  },
  {
   "cell_type": "code",
   "execution_count": 47,
   "metadata": {},
   "outputs": [],
   "source": [
    "CNN_model.compile(optimizer = 'adam', loss = 'binary_crossentropy', metrics = ['accuracy'])"
   ]
  },
  {
   "cell_type": "code",
   "execution_count": 48,
   "metadata": {
    "scrolled": true
   },
   "outputs": [
    {
     "name": "stdout",
     "output_type": "stream",
     "text": [
      "Epoch 1/200\n",
      "71/71 [==============================] - 1s 2ms/step - loss: 0.5440 - accuracy: 0.6898\n",
      "Epoch 2/200\n",
      "71/71 [==============================] - 0s 1ms/step - loss: 0.4089 - accuracy: 0.8107\n",
      "Epoch 3/200\n",
      "71/71 [==============================] - 0s 1ms/step - loss: 0.3623 - accuracy: 0.8372\n",
      "Epoch 4/200\n",
      "71/71 [==============================] - 0s 1ms/step - loss: 0.3390 - accuracy: 0.8477\n",
      "Epoch 5/200\n",
      "71/71 [==============================] - 0s 1ms/step - loss: 0.3233 - accuracy: 0.8592\n",
      "Epoch 6/200\n",
      "71/71 [==============================] - 0s 1ms/step - loss: 0.3137 - accuracy: 0.8645\n",
      "Epoch 7/200\n",
      "71/71 [==============================] - 0s 1ms/step - loss: 0.3101 - accuracy: 0.8614\n",
      "Epoch 8/200\n",
      "71/71 [==============================] - 0s 1ms/step - loss: 0.3027 - accuracy: 0.8680\n",
      "Epoch 9/200\n",
      "71/71 [==============================] - 0s 1ms/step - loss: 0.2979 - accuracy: 0.8707\n",
      "Epoch 10/200\n",
      "71/71 [==============================] - 0s 1ms/step - loss: 0.2931 - accuracy: 0.8782\n",
      "Epoch 11/200\n",
      "71/71 [==============================] - 0s 1ms/step - loss: 0.2884 - accuracy: 0.8782\n",
      "Epoch 12/200\n",
      "71/71 [==============================] - 0s 1ms/step - loss: 0.2857 - accuracy: 0.8786\n",
      "Epoch 13/200\n",
      "71/71 [==============================] - 0s 1ms/step - loss: 0.2853 - accuracy: 0.8760\n",
      "Epoch 14/200\n",
      "71/71 [==============================] - 0s 1ms/step - loss: 0.2765 - accuracy: 0.8782\n",
      "Epoch 15/200\n",
      "71/71 [==============================] - 0s 1ms/step - loss: 0.2737 - accuracy: 0.8795\n",
      "Epoch 16/200\n",
      "71/71 [==============================] - 0s 1ms/step - loss: 0.2716 - accuracy: 0.8853\n",
      "Epoch 17/200\n",
      "71/71 [==============================] - 0s 1ms/step - loss: 0.2682 - accuracy: 0.8853\n",
      "Epoch 18/200\n",
      "71/71 [==============================] - 0s 1ms/step - loss: 0.2650 - accuracy: 0.8870\n",
      "Epoch 19/200\n",
      "71/71 [==============================] - 0s 1ms/step - loss: 0.2606 - accuracy: 0.8844\n",
      "Epoch 20/200\n",
      "71/71 [==============================] - 0s 2ms/step - loss: 0.2609 - accuracy: 0.8928\n",
      "Epoch 21/200\n",
      "71/71 [==============================] - 0s 1ms/step - loss: 0.2549 - accuracy: 0.8928\n",
      "Epoch 22/200\n",
      "71/71 [==============================] - 0s 1ms/step - loss: 0.2537 - accuracy: 0.8888\n",
      "Epoch 23/200\n",
      "71/71 [==============================] - 0s 1ms/step - loss: 0.2491 - accuracy: 0.8936\n",
      "Epoch 24/200\n",
      "71/71 [==============================] - 0s 1ms/step - loss: 0.2457 - accuracy: 0.8967\n",
      "Epoch 25/200\n",
      "71/71 [==============================] - 0s 2ms/step - loss: 0.2426 - accuracy: 0.8972\n",
      "Epoch 26/200\n",
      "71/71 [==============================] - 0s 1ms/step - loss: 0.2390 - accuracy: 0.8936\n",
      "Epoch 27/200\n",
      "71/71 [==============================] - 0s 1ms/step - loss: 0.2339 - accuracy: 0.9011\n",
      "Epoch 28/200\n",
      "71/71 [==============================] - 0s 1ms/step - loss: 0.2330 - accuracy: 0.9060\n",
      "Epoch 29/200\n",
      "71/71 [==============================] - 0s 2ms/step - loss: 0.2287 - accuracy: 0.9020\n",
      "Epoch 30/200\n",
      "71/71 [==============================] - 0s 1ms/step - loss: 0.2262 - accuracy: 0.8972\n",
      "Epoch 31/200\n",
      "71/71 [==============================] - 0s 2ms/step - loss: 0.2184 - accuracy: 0.9042\n",
      "Epoch 32/200\n",
      "71/71 [==============================] - 0s 2ms/step - loss: 0.2149 - accuracy: 0.9060\n",
      "Epoch 33/200\n",
      "71/71 [==============================] - 0s 1ms/step - loss: 0.2164 - accuracy: 0.9038\n",
      "Epoch 34/200\n",
      "71/71 [==============================] - 0s 1ms/step - loss: 0.2110 - accuracy: 0.9117\n",
      "Epoch 35/200\n",
      "71/71 [==============================] - 0s 2ms/step - loss: 0.2069 - accuracy: 0.9126\n",
      "Epoch 36/200\n",
      "71/71 [==============================] - 0s 1ms/step - loss: 0.2027 - accuracy: 0.9157\n",
      "Epoch 37/200\n",
      "71/71 [==============================] - 0s 1ms/step - loss: 0.1988 - accuracy: 0.9095\n",
      "Epoch 38/200\n",
      "71/71 [==============================] - 0s 1ms/step - loss: 0.1965 - accuracy: 0.9166\n",
      "Epoch 39/200\n",
      "71/71 [==============================] - 0s 1ms/step - loss: 0.1946 - accuracy: 0.9131\n",
      "Epoch 40/200\n",
      "71/71 [==============================] - 0s 1ms/step - loss: 0.1939 - accuracy: 0.9131\n",
      "Epoch 41/200\n",
      "71/71 [==============================] - 0s 1ms/step - loss: 0.1897 - accuracy: 0.9166\n",
      "Epoch 42/200\n",
      "71/71 [==============================] - 0s 1ms/step - loss: 0.1854 - accuracy: 0.9201\n",
      "Epoch 43/200\n",
      "71/71 [==============================] - 0s 1ms/step - loss: 0.1811 - accuracy: 0.9232\n",
      "Epoch 44/200\n",
      "71/71 [==============================] - 0s 1ms/step - loss: 0.1860 - accuracy: 0.9201\n",
      "Epoch 45/200\n",
      "71/71 [==============================] - 0s 1ms/step - loss: 0.1788 - accuracy: 0.9219\n",
      "Epoch 46/200\n",
      "71/71 [==============================] - 0s 1ms/step - loss: 0.1721 - accuracy: 0.9276\n",
      "Epoch 47/200\n",
      "71/71 [==============================] - 0s 1ms/step - loss: 0.1711 - accuracy: 0.9289\n",
      "Epoch 48/200\n",
      "71/71 [==============================] - 0s 1ms/step - loss: 0.1645 - accuracy: 0.9329\n",
      "Epoch 49/200\n",
      "71/71 [==============================] - 0s 2ms/step - loss: 0.1682 - accuracy: 0.9303\n",
      "Epoch 50/200\n",
      "71/71 [==============================] - 0s 1ms/step - loss: 0.1594 - accuracy: 0.9342\n",
      "Epoch 51/200\n",
      "71/71 [==============================] - 0s 2ms/step - loss: 0.1586 - accuracy: 0.9329\n",
      "Epoch 52/200\n",
      "71/71 [==============================] - 0s 1ms/step - loss: 0.1549 - accuracy: 0.9369\n",
      "Epoch 53/200\n",
      "71/71 [==============================] - 0s 1ms/step - loss: 0.1554 - accuracy: 0.9378\n",
      "Epoch 54/200\n",
      "71/71 [==============================] - 0s 1ms/step - loss: 0.1527 - accuracy: 0.9409\n",
      "Epoch 55/200\n",
      "71/71 [==============================] - 0s 1ms/step - loss: 0.1481 - accuracy: 0.9391\n",
      "Epoch 56/200\n",
      "71/71 [==============================] - 0s 1ms/step - loss: 0.1440 - accuracy: 0.9457\n",
      "Epoch 57/200\n",
      "71/71 [==============================] - 0s 1ms/step - loss: 0.1412 - accuracy: 0.9444\n",
      "Epoch 58/200\n",
      "71/71 [==============================] - 0s 1ms/step - loss: 0.1411 - accuracy: 0.9497\n",
      "Epoch 59/200\n",
      "71/71 [==============================] - 0s 1ms/step - loss: 0.1382 - accuracy: 0.9448\n",
      "Epoch 60/200\n",
      "71/71 [==============================] - 0s 1ms/step - loss: 0.1368 - accuracy: 0.9440\n",
      "Epoch 61/200\n",
      "71/71 [==============================] - 0s 2ms/step - loss: 0.1313 - accuracy: 0.9523\n",
      "Epoch 62/200\n",
      "71/71 [==============================] - 0s 2ms/step - loss: 0.1276 - accuracy: 0.9515\n",
      "Epoch 63/200\n",
      "71/71 [==============================] - 0s 2ms/step - loss: 0.1335 - accuracy: 0.9475\n",
      "Epoch 64/200\n",
      "71/71 [==============================] - 0s 1ms/step - loss: 0.1254 - accuracy: 0.9537\n",
      "Epoch 65/200\n",
      "71/71 [==============================] - 0s 1ms/step - loss: 0.1226 - accuracy: 0.9554\n",
      "Epoch 66/200\n",
      "71/71 [==============================] - 0s 1ms/step - loss: 0.1200 - accuracy: 0.9585\n",
      "Epoch 67/200\n",
      "71/71 [==============================] - 0s 1ms/step - loss: 0.1121 - accuracy: 0.9634\n",
      "Epoch 68/200\n",
      "71/71 [==============================] - 0s 1ms/step - loss: 0.1117 - accuracy: 0.9620\n",
      "Epoch 69/200\n",
      "71/71 [==============================] - 0s 1ms/step - loss: 0.1116 - accuracy: 0.9607\n",
      "Epoch 70/200\n",
      "71/71 [==============================] - 0s 1ms/step - loss: 0.1064 - accuracy: 0.9656\n",
      "Epoch 71/200\n",
      "71/71 [==============================] - 0s 1ms/step - loss: 0.1096 - accuracy: 0.9598\n",
      "Epoch 72/200\n",
      "71/71 [==============================] - 0s 1ms/step - loss: 0.0988 - accuracy: 0.9726\n",
      "Epoch 73/200\n",
      "71/71 [==============================] - 0s 1ms/step - loss: 0.0972 - accuracy: 0.9713\n",
      "Epoch 74/200\n",
      "71/71 [==============================] - 0s 1ms/step - loss: 0.1038 - accuracy: 0.9643\n",
      "Epoch 75/200\n",
      "71/71 [==============================] - 0s 1ms/step - loss: 0.0997 - accuracy: 0.9643\n",
      "Epoch 76/200\n",
      "71/71 [==============================] - 0s 1ms/step - loss: 0.0969 - accuracy: 0.9678\n",
      "Epoch 77/200\n",
      "71/71 [==============================] - 0s 1ms/step - loss: 0.0906 - accuracy: 0.9704\n",
      "Epoch 78/200\n",
      "71/71 [==============================] - 0s 1ms/step - loss: 0.0882 - accuracy: 0.9718\n",
      "Epoch 79/200\n",
      "71/71 [==============================] - 0s 1ms/step - loss: 0.0871 - accuracy: 0.9731\n",
      "Epoch 80/200\n",
      "71/71 [==============================] - 0s 1ms/step - loss: 0.0837 - accuracy: 0.9762\n",
      "Epoch 81/200\n",
      "71/71 [==============================] - 0s 1ms/step - loss: 0.0846 - accuracy: 0.9718\n",
      "Epoch 82/200\n",
      "71/71 [==============================] - 0s 1ms/step - loss: 0.0820 - accuracy: 0.9713\n",
      "Epoch 83/200\n"
     ]
    },
    {
     "name": "stdout",
     "output_type": "stream",
     "text": [
      "71/71 [==============================] - 0s 1ms/step - loss: 0.0774 - accuracy: 0.9784\n",
      "Epoch 84/200\n",
      "71/71 [==============================] - 0s 1ms/step - loss: 0.0768 - accuracy: 0.9806\n",
      "Epoch 85/200\n",
      "71/71 [==============================] - 0s 1ms/step - loss: 0.0754 - accuracy: 0.9740\n",
      "Epoch 86/200\n",
      "71/71 [==============================] - 0s 1ms/step - loss: 0.0756 - accuracy: 0.9757\n",
      "Epoch 87/200\n",
      "71/71 [==============================] - 0s 2ms/step - loss: 0.0727 - accuracy: 0.9766\n",
      "Epoch 88/200\n",
      "71/71 [==============================] - 0s 2ms/step - loss: 0.0731 - accuracy: 0.9740\n",
      "Epoch 89/200\n",
      "71/71 [==============================] - 0s 2ms/step - loss: 0.0638 - accuracy: 0.9832\n",
      "Epoch 90/200\n",
      "71/71 [==============================] - 0s 2ms/step - loss: 0.0658 - accuracy: 0.9837\n",
      "Epoch 91/200\n",
      "71/71 [==============================] - 0s 2ms/step - loss: 0.0647 - accuracy: 0.9819\n",
      "Epoch 92/200\n",
      "71/71 [==============================] - 0s 2ms/step - loss: 0.0635 - accuracy: 0.9828\n",
      "Epoch 93/200\n",
      "71/71 [==============================] - 0s 2ms/step - loss: 0.0591 - accuracy: 0.9872\n",
      "Epoch 94/200\n",
      "71/71 [==============================] - 0s 2ms/step - loss: 0.0624 - accuracy: 0.9806\n",
      "Epoch 95/200\n",
      "71/71 [==============================] - 0s 2ms/step - loss: 0.0589 - accuracy: 0.9823\n",
      "Epoch 96/200\n",
      "71/71 [==============================] - 0s 2ms/step - loss: 0.0573 - accuracy: 0.9863\n",
      "Epoch 97/200\n",
      "71/71 [==============================] - 0s 2ms/step - loss: 0.0555 - accuracy: 0.9876\n",
      "Epoch 98/200\n",
      "71/71 [==============================] - 0s 2ms/step - loss: 0.0538 - accuracy: 0.9872\n",
      "Epoch 99/200\n",
      "71/71 [==============================] - 0s 2ms/step - loss: 0.0517 - accuracy: 0.9894\n",
      "Epoch 100/200\n",
      "71/71 [==============================] - 0s 2ms/step - loss: 0.0493 - accuracy: 0.9898\n",
      "Epoch 101/200\n",
      "71/71 [==============================] - 0s 2ms/step - loss: 0.0473 - accuracy: 0.9894\n",
      "Epoch 102/200\n",
      "71/71 [==============================] - 0s 2ms/step - loss: 0.0486 - accuracy: 0.9912\n",
      "Epoch 103/200\n",
      "71/71 [==============================] - 0s 2ms/step - loss: 0.0482 - accuracy: 0.9872\n",
      "Epoch 104/200\n",
      "71/71 [==============================] - 0s 2ms/step - loss: 0.0468 - accuracy: 0.9894\n",
      "Epoch 105/200\n",
      "71/71 [==============================] - 0s 2ms/step - loss: 0.0449 - accuracy: 0.9912\n",
      "Epoch 106/200\n",
      "71/71 [==============================] - 0s 2ms/step - loss: 0.0455 - accuracy: 0.9885\n",
      "Epoch 107/200\n",
      "71/71 [==============================] - 0s 2ms/step - loss: 0.0454 - accuracy: 0.9876\n",
      "Epoch 108/200\n",
      "71/71 [==============================] - 0s 2ms/step - loss: 0.0444 - accuracy: 0.9907\n",
      "Epoch 109/200\n",
      "71/71 [==============================] - 0s 2ms/step - loss: 0.0393 - accuracy: 0.9925\n",
      "Epoch 110/200\n",
      "71/71 [==============================] - 0s 2ms/step - loss: 0.0448 - accuracy: 0.9894\n",
      "Epoch 111/200\n",
      "71/71 [==============================] - 0s 2ms/step - loss: 0.0424 - accuracy: 0.9885\n",
      "Epoch 112/200\n",
      "71/71 [==============================] - 0s 1ms/step - loss: 0.0408 - accuracy: 0.9916\n",
      "Epoch 113/200\n",
      "71/71 [==============================] - 0s 1ms/step - loss: 0.0388 - accuracy: 0.9903\n",
      "Epoch 114/200\n",
      "71/71 [==============================] - 0s 1ms/step - loss: 0.0351 - accuracy: 0.9938\n",
      "Epoch 115/200\n",
      "71/71 [==============================] - 0s 1ms/step - loss: 0.0387 - accuracy: 0.9903\n",
      "Epoch 116/200\n",
      "71/71 [==============================] - 0s 2ms/step - loss: 0.0389 - accuracy: 0.9925\n",
      "Epoch 117/200\n",
      "71/71 [==============================] - 0s 1ms/step - loss: 0.0358 - accuracy: 0.9929\n",
      "Epoch 118/200\n",
      "71/71 [==============================] - 0s 2ms/step - loss: 0.0334 - accuracy: 0.9929\n",
      "Epoch 119/200\n",
      "71/71 [==============================] - 0s 1ms/step - loss: 0.0400 - accuracy: 0.9876\n",
      "Epoch 120/200\n",
      "71/71 [==============================] - 0s 2ms/step - loss: 0.0337 - accuracy: 0.9925\n",
      "Epoch 121/200\n",
      "71/71 [==============================] - 0s 2ms/step - loss: 0.0311 - accuracy: 0.9951\n",
      "Epoch 122/200\n",
      "71/71 [==============================] - 0s 2ms/step - loss: 0.0334 - accuracy: 0.9934\n",
      "Epoch 123/200\n",
      "71/71 [==============================] - 0s 1ms/step - loss: 0.0316 - accuracy: 0.9938\n",
      "Epoch 124/200\n",
      "71/71 [==============================] - 0s 1ms/step - loss: 0.0319 - accuracy: 0.9943\n",
      "Epoch 125/200\n",
      "71/71 [==============================] - 0s 1ms/step - loss: 0.0283 - accuracy: 0.9956\n",
      "Epoch 126/200\n",
      "71/71 [==============================] - 0s 1ms/step - loss: 0.0285 - accuracy: 0.9956\n",
      "Epoch 127/200\n",
      "71/71 [==============================] - 0s 1ms/step - loss: 0.0273 - accuracy: 0.9951\n",
      "Epoch 128/200\n",
      "71/71 [==============================] - 0s 1ms/step - loss: 0.0305 - accuracy: 0.9938\n",
      "Epoch 129/200\n",
      "71/71 [==============================] - 0s 1ms/step - loss: 0.0283 - accuracy: 0.9951\n",
      "Epoch 130/200\n",
      "71/71 [==============================] - 0s 1ms/step - loss: 0.0253 - accuracy: 0.9965\n",
      "Epoch 131/200\n",
      "71/71 [==============================] - 0s 1ms/step - loss: 0.0266 - accuracy: 0.9956\n",
      "Epoch 132/200\n",
      "71/71 [==============================] - 0s 1ms/step - loss: 0.0270 - accuracy: 0.9956\n",
      "Epoch 133/200\n",
      "71/71 [==============================] - 0s 1ms/step - loss: 0.0261 - accuracy: 0.9956\n",
      "Epoch 134/200\n",
      "71/71 [==============================] - 0s 1ms/step - loss: 0.0314 - accuracy: 0.9947\n",
      "Epoch 135/200\n",
      "71/71 [==============================] - 0s 1ms/step - loss: 0.0235 - accuracy: 0.9969\n",
      "Epoch 136/200\n",
      "71/71 [==============================] - 0s 1ms/step - loss: 0.0267 - accuracy: 0.9960\n",
      "Epoch 137/200\n",
      "71/71 [==============================] - 0s 1ms/step - loss: 0.0221 - accuracy: 0.9974\n",
      "Epoch 138/200\n",
      "71/71 [==============================] - 0s 1ms/step - loss: 0.0254 - accuracy: 0.9943\n",
      "Epoch 139/200\n",
      "71/71 [==============================] - 0s 1ms/step - loss: 0.0280 - accuracy: 0.9916\n",
      "Epoch 140/200\n",
      "71/71 [==============================] - 0s 1ms/step - loss: 0.0234 - accuracy: 0.9938\n",
      "Epoch 141/200\n",
      "71/71 [==============================] - 0s 1ms/step - loss: 0.0199 - accuracy: 0.9978\n",
      "Epoch 142/200\n",
      "71/71 [==============================] - 0s 1ms/step - loss: 0.0211 - accuracy: 0.9960\n",
      "Epoch 143/200\n",
      "71/71 [==============================] - 0s 1ms/step - loss: 0.0207 - accuracy: 0.9960\n",
      "Epoch 144/200\n",
      "71/71 [==============================] - 0s 1ms/step - loss: 0.0195 - accuracy: 0.9965\n",
      "Epoch 145/200\n",
      "71/71 [==============================] - 0s 1ms/step - loss: 0.0174 - accuracy: 0.9996\n",
      "Epoch 146/200\n",
      "71/71 [==============================] - 0s 1ms/step - loss: 0.0197 - accuracy: 0.9965\n",
      "Epoch 147/200\n",
      "71/71 [==============================] - 0s 1ms/step - loss: 0.0187 - accuracy: 0.9969\n",
      "Epoch 148/200\n",
      "71/71 [==============================] - 0s 1ms/step - loss: 0.0156 - accuracy: 0.9987\n",
      "Epoch 149/200\n",
      "71/71 [==============================] - 0s 2ms/step - loss: 0.0156 - accuracy: 0.9987\n",
      "Epoch 150/200\n",
      "71/71 [==============================] - 0s 1ms/step - loss: 0.0142 - accuracy: 0.9987\n",
      "Epoch 151/200\n",
      "71/71 [==============================] - 0s 1ms/step - loss: 0.0162 - accuracy: 0.9978\n",
      "Epoch 152/200\n",
      "71/71 [==============================] - 0s 1ms/step - loss: 0.0147 - accuracy: 0.9991\n",
      "Epoch 153/200\n",
      "71/71 [==============================] - 0s 2ms/step - loss: 0.0193 - accuracy: 0.9960\n",
      "Epoch 154/200\n",
      "71/71 [==============================] - 0s 2ms/step - loss: 0.0160 - accuracy: 0.9974\n",
      "Epoch 155/200\n",
      "71/71 [==============================] - 0s 1ms/step - loss: 0.0163 - accuracy: 0.9978\n",
      "Epoch 156/200\n",
      "71/71 [==============================] - 0s 1ms/step - loss: 0.0155 - accuracy: 0.9982\n",
      "Epoch 157/200\n",
      "71/71 [==============================] - 0s 1ms/step - loss: 0.0138 - accuracy: 0.9978\n",
      "Epoch 158/200\n",
      "71/71 [==============================] - 0s 1ms/step - loss: 0.0182 - accuracy: 0.9956\n",
      "Epoch 159/200\n",
      "71/71 [==============================] - 0s 1ms/step - loss: 0.0229 - accuracy: 0.9956\n",
      "Epoch 160/200\n",
      "71/71 [==============================] - 0s 1ms/step - loss: 0.0143 - accuracy: 0.9974\n",
      "Epoch 161/200\n",
      "71/71 [==============================] - 0s 1ms/step - loss: 0.0168 - accuracy: 0.9965\n",
      "Epoch 162/200\n",
      "71/71 [==============================] - 0s 1ms/step - loss: 0.0129 - accuracy: 0.9991\n",
      "Epoch 163/200\n",
      "71/71 [==============================] - 0s 1ms/step - loss: 0.0136 - accuracy: 0.9978\n",
      "Epoch 164/200\n",
      "71/71 [==============================] - 0s 1ms/step - loss: 0.0114 - accuracy: 0.9987\n",
      "Epoch 165/200\n",
      "71/71 [==============================] - 0s 1ms/step - loss: 0.0109 - accuracy: 0.9991\n",
      "Epoch 166/200\n",
      "71/71 [==============================] - 0s 1ms/step - loss: 0.0128 - accuracy: 0.9996\n",
      "Epoch 167/200\n",
      "71/71 [==============================] - 0s 2ms/step - loss: 0.0127 - accuracy: 0.9974\n",
      "Epoch 168/200\n",
      "71/71 [==============================] - 0s 2ms/step - loss: 0.0120 - accuracy: 0.9991\n",
      "Epoch 169/200\n",
      "71/71 [==============================] - 0s 1ms/step - loss: 0.0161 - accuracy: 0.9960\n",
      "Epoch 170/200\n",
      "71/71 [==============================] - 0s 1ms/step - loss: 0.0169 - accuracy: 0.9947\n",
      "Epoch 171/200\n",
      "71/71 [==============================] - 0s 1ms/step - loss: 0.0184 - accuracy: 0.9956\n",
      "Epoch 172/200\n",
      "71/71 [==============================] - 0s 2ms/step - loss: 0.0195 - accuracy: 0.9951\n",
      "Epoch 173/200\n",
      "71/71 [==============================] - 0s 2ms/step - loss: 0.0123 - accuracy: 0.9982\n",
      "Epoch 174/200\n",
      "71/71 [==============================] - 0s 1ms/step - loss: 0.0108 - accuracy: 0.9991\n",
      "Epoch 175/200\n",
      "71/71 [==============================] - 0s 2ms/step - loss: 0.0099 - accuracy: 0.9987\n",
      "Epoch 176/200\n",
      "71/71 [==============================] - 0s 1ms/step - loss: 0.0110 - accuracy: 0.9974\n",
      "Epoch 177/200\n",
      "71/71 [==============================] - 0s 2ms/step - loss: 0.0104 - accuracy: 0.9991\n",
      "Epoch 178/200\n",
      "71/71 [==============================] - 0s 2ms/step - loss: 0.0120 - accuracy: 0.9974\n",
      "Epoch 179/200\n",
      "71/71 [==============================] - 0s 1ms/step - loss: 0.0183 - accuracy: 0.9960\n",
      "Epoch 180/200\n",
      "71/71 [==============================] - 0s 1ms/step - loss: 0.0141 - accuracy: 0.9978\n",
      "Epoch 181/200\n",
      "71/71 [==============================] - 0s 1ms/step - loss: 0.0111 - accuracy: 0.9978\n",
      "Epoch 182/200\n",
      "71/71 [==============================] - 0s 1ms/step - loss: 0.0126 - accuracy: 0.9978\n",
      "Epoch 183/200\n",
      "71/71 [==============================] - 0s 1ms/step - loss: 0.0074 - accuracy: 0.9991\n",
      "Epoch 184/200\n",
      "71/71 [==============================] - 0s 2ms/step - loss: 0.0096 - accuracy: 0.9991\n",
      "Epoch 185/200\n",
      "71/71 [==============================] - 0s 1ms/step - loss: 0.0095 - accuracy: 0.9978\n",
      "Epoch 186/200\n",
      "71/71 [==============================] - 0s 1ms/step - loss: 0.0076 - accuracy: 0.9996\n",
      "Epoch 187/200\n",
      "71/71 [==============================] - 0s 1ms/step - loss: 0.0100 - accuracy: 0.9991\n",
      "Epoch 188/200\n",
      "71/71 [==============================] - 0s 2ms/step - loss: 0.0069 - accuracy: 1.0000\n",
      "Epoch 189/200\n",
      "71/71 [==============================] - 0s 1ms/step - loss: 0.0072 - accuracy: 0.9991\n",
      "Epoch 190/200\n",
      "71/71 [==============================] - 0s 1ms/step - loss: 0.0073 - accuracy: 0.9996\n",
      "Epoch 191/200\n",
      "71/71 [==============================] - 0s 1ms/step - loss: 0.0061 - accuracy: 0.9991\n",
      "Epoch 192/200\n",
      "71/71 [==============================] - 0s 2ms/step - loss: 0.0081 - accuracy: 0.9991\n",
      "Epoch 193/200\n",
      "71/71 [==============================] - 0s 1ms/step - loss: 0.0240 - accuracy: 0.9894\n",
      "Epoch 194/200\n",
      "71/71 [==============================] - 0s 1ms/step - loss: 0.0135 - accuracy: 0.9978\n",
      "Epoch 195/200\n",
      "71/71 [==============================] - 0s 1ms/step - loss: 0.0099 - accuracy: 0.9991\n",
      "Epoch 196/200\n",
      "71/71 [==============================] - 0s 2ms/step - loss: 0.0148 - accuracy: 0.9969\n",
      "Epoch 197/200\n",
      "71/71 [==============================] - 0s 2ms/step - loss: 0.0419 - accuracy: 0.9854\n",
      "Epoch 198/200\n",
      "71/71 [==============================] - 0s 1ms/step - loss: 0.0293 - accuracy: 0.9881\n",
      "Epoch 199/200\n",
      "71/71 [==============================] - 0s 1ms/step - loss: 0.0149 - accuracy: 0.9965\n",
      "Epoch 200/200\n",
      "71/71 [==============================] - 0s 1ms/step - loss: 0.0064 - accuracy: 1.0000\n"
     ]
    },
    {
     "data": {
      "text/plain": [
       "<keras.callbacks.History at 0x19b5217fa00>"
      ]
     },
     "execution_count": 48,
     "metadata": {},
     "output_type": "execute_result"
    }
   ],
   "source": [
    "CNN_model.fit(x_train, y_train, batch_size = 32, epochs = 200)"
   ]
  },
  {
   "cell_type": "code",
   "execution_count": 49,
   "metadata": {},
   "outputs": [],
   "source": [
    "loss, acc_cnn = CNN_model.evaluate(x_train, y_train, verbose = 0)"
   ]
  },
  {
   "cell_type": "code",
   "execution_count": 50,
   "metadata": {},
   "outputs": [
    {
     "name": "stdout",
     "output_type": "stream",
     "text": [
      "1.0\n"
     ]
    }
   ],
   "source": [
    "print(acc_cnn)"
   ]
  },
  {
   "cell_type": "code",
   "execution_count": 51,
   "metadata": {},
   "outputs": [
    {
     "name": "stdout",
     "output_type": "stream",
     "text": [
      "13/13 [==============================] - 0s 1ms/step\n"
     ]
    }
   ],
   "source": [
    "y_pred = CNN_model.predict(x_test)\n",
    "y_pred[y_pred <= 0.5] = 0\n",
    "y_pred[y_pred > 0.5] = 1"
   ]
  },
  {
   "cell_type": "markdown",
   "metadata": {},
   "source": [
    "ACCURACY COMPARISON OF ALL THE MODELS"
   ]
  },
  {
   "cell_type": "code",
   "execution_count": 52,
   "metadata": {},
   "outputs": [],
   "source": [
    "scores = [acc_lr * 100,\n",
    "          acc_knn * 100,\n",
    "          acc_svm * 100,\n",
    "          acc_nb * 100,\n",
    "          acc_dt * 100,\n",
    "          acc_rf * 100,\n",
    "          acc_cnn * 100]"
   ]
  },
  {
   "cell_type": "code",
   "execution_count": 53,
   "metadata": {},
   "outputs": [],
   "source": [
    "names = [\"Logistic Regression\",\n",
    "        \"K-Nearest Neighbors\",\n",
    "        \"Support Vector Machine\",\n",
    "        \"Naive Bayes\",\n",
    "        \"Decision Tree\",\n",
    "        \"Random Forest\",\n",
    "        \"Convolutional Neural Network\"]"
   ]
  },
  {
   "cell_type": "code",
   "execution_count": 54,
   "metadata": {},
   "outputs": [],
   "source": [
    "df = pd.DataFrame()\n",
    "df['Algorithm Name'] = names\n",
    "df['Accuracy Score (%)'] = scores\n",
    "df = df.sort_values('Accuracy Score (%)', ascending = False)"
   ]
  },
  {
   "cell_type": "code",
   "execution_count": 55,
   "metadata": {
    "scrolled": true
   },
   "outputs": [
    {
     "data": {
      "text/html": [
       "<div>\n",
       "<style scoped>\n",
       "    .dataframe tbody tr th:only-of-type {\n",
       "        vertical-align: middle;\n",
       "    }\n",
       "\n",
       "    .dataframe tbody tr th {\n",
       "        vertical-align: top;\n",
       "    }\n",
       "\n",
       "    .dataframe thead th {\n",
       "        text-align: right;\n",
       "    }\n",
       "</style>\n",
       "<table border=\"1\" class=\"dataframe\">\n",
       "  <thead>\n",
       "    <tr style=\"text-align: right;\">\n",
       "      <th></th>\n",
       "      <th>Algorithm Name</th>\n",
       "      <th>Accuracy Score (%)</th>\n",
       "    </tr>\n",
       "  </thead>\n",
       "  <tbody>\n",
       "    <tr>\n",
       "      <th>6</th>\n",
       "      <td>Convolutional Neural Network</td>\n",
       "      <td>100.00</td>\n",
       "    </tr>\n",
       "    <tr>\n",
       "      <th>5</th>\n",
       "      <td>Random Forest</td>\n",
       "      <td>95.50</td>\n",
       "    </tr>\n",
       "    <tr>\n",
       "      <th>4</th>\n",
       "      <td>Decision Tree</td>\n",
       "      <td>94.75</td>\n",
       "    </tr>\n",
       "    <tr>\n",
       "      <th>1</th>\n",
       "      <td>K-Nearest Neighbors</td>\n",
       "      <td>83.00</td>\n",
       "    </tr>\n",
       "    <tr>\n",
       "      <th>2</th>\n",
       "      <td>Support Vector Machine</td>\n",
       "      <td>81.50</td>\n",
       "    </tr>\n",
       "    <tr>\n",
       "      <th>3</th>\n",
       "      <td>Naive Bayes</td>\n",
       "      <td>81.25</td>\n",
       "    </tr>\n",
       "    <tr>\n",
       "      <th>0</th>\n",
       "      <td>Logistic Regression</td>\n",
       "      <td>80.25</td>\n",
       "    </tr>\n",
       "  </tbody>\n",
       "</table>\n",
       "</div>"
      ],
      "text/plain": [
       "                 Algorithm Name  Accuracy Score (%)\n",
       "6  Convolutional Neural Network              100.00\n",
       "5                 Random Forest               95.50\n",
       "4                 Decision Tree               94.75\n",
       "1           K-Nearest Neighbors               83.00\n",
       "2        Support Vector Machine               81.50\n",
       "3                   Naive Bayes               81.25\n",
       "0           Logistic Regression               80.25"
      ]
     },
     "execution_count": 55,
     "metadata": {},
     "output_type": "execute_result"
    }
   ],
   "source": [
    "df"
   ]
  },
  {
   "cell_type": "code",
   "execution_count": 56,
   "metadata": {},
   "outputs": [],
   "source": [
    "import matplotlib.pyplot as plt\n",
    "import seaborn as sns"
   ]
  },
  {
   "cell_type": "code",
   "execution_count": 57,
   "metadata": {
    "scrolled": true
   },
   "outputs": [
    {
     "data": {
      "image/png": "[encoded data removed]",
      "text/plain": [
       "<Figure size 1000x500 with 1 Axes>"
      ]
     },
     "metadata": {},
     "output_type": "display_data"
    }
   ],
   "source": [
    "fig = plt.subplots(figsize = (10, 5))\n",
    "ax = sns.barplot(x = \"Accuracy Score (%)\", y = \"Algorithm Name\", data = df)"
   ]
  },
  {
   "cell_type": "markdown",
   "metadata": {},
   "source": [
    "SAVING THE BEST TRAINED MODEL"
   ]
  },
  {
   "cell_type": "code",
   "execution_count": 58,
   "metadata": {},
   "outputs": [],
   "source": [
    "import os.path"
   ]
  },
  {
   "cell_type": "code",
   "execution_count": 59,
   "metadata": {},
   "outputs": [],
   "source": [
    "if os.path.isfile('../model/project_model1.h5') is False:\n",
    "    CNN_model.save('../model/project_model1.h5')"
   ]
  },
  {
   "cell_type": "code",
   "execution_count": null,
   "metadata": {},
   "outputs": [],
   "source": []
  }
 ],
 "metadata": {
  "kernelspec": {
   "display_name": "Python 3 (ipykernel)",
   "language": "python",
   "name": "python3"
  },
  "language_info": {
   "codemirror_mode": {
    "name": "ipython",
    "version": 3
   },
   "file_extension": ".py",
   "mimetype": "text/x-python",
   "name": "python",
   "nbconvert_exporter": "python",
   "pygments_lexer": "ipython3",
   "version": "3.10.11"
  }
 },
 "nbformat": 4,
 "nbformat_minor": 4
}
